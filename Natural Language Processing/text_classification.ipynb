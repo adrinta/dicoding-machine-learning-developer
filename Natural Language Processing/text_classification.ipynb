{
  "nbformat": 4,
  "nbformat_minor": 0,
  "metadata": {
    "colab": {
      "name": "text-classification.ipynb",
      "provenance": [],
      "collapsed_sections": [
        "2o7q1-vdskys",
        "TzOGaJiXsod0",
        "YXmFOz4qswFk",
        "_Hek6BdPs5K9"
      ]
    },
    "kernelspec": {
      "name": "python3",
      "display_name": "Python 3"
    },
    "accelerator": "GPU"
  },
  "cells": [
    {
      "cell_type": "markdown",
      "metadata": {
        "id": "ZNMa267FtCl1"
      },
      "source": [
        "## **Download dataset**"
      ]
    },
    {
      "cell_type": "code",
      "metadata": {
        "id": "AN52zobsugHb",
        "colab": {
          "base_uri": "https://localhost:8080/"
        },
        "outputId": "e6b91bc4-a5d6-413d-a086-ef789c7c1ae9"
      },
      "source": [
        "!wget http://mlg.ucd.ie/files/datasets/bbc-fulltext.zip"
      ],
      "execution_count": 1,
      "outputs": [
        {
          "output_type": "stream",
          "name": "stdout",
          "text": [
            "--2021-12-07 04:03:37--  http://mlg.ucd.ie/files/datasets/bbc-fulltext.zip\n",
            "Resolving mlg.ucd.ie (mlg.ucd.ie)... 137.43.93.132\n",
            "Connecting to mlg.ucd.ie (mlg.ucd.ie)|137.43.93.132|:80... connected.\n",
            "HTTP request sent, awaiting response... 200 OK\n",
            "Length: 2874078 (2.7M) [application/zip]\n",
            "Saving to: ‘bbc-fulltext.zip’\n",
            "\n",
            "bbc-fulltext.zip    100%[===================>]   2.74M  --.-KB/s    in 0.1s    \n",
            "\n",
            "2021-12-07 04:03:37 (22.6 MB/s) - ‘bbc-fulltext.zip’ saved [2874078/2874078]\n",
            "\n"
          ]
        }
      ]
    },
    {
      "cell_type": "markdown",
      "metadata": {
        "id": "5VDQB0MPqoo8"
      },
      "source": [
        "## **Making List of Headlines and Categories**"
      ]
    },
    {
      "cell_type": "code",
      "metadata": {
        "id": "RGROPCfRu2q1"
      },
      "source": [
        "import zipfile\n",
        "import os\n",
        "\n",
        "local_zip = '/content/bbc-fulltext.zip'\n",
        "zip_ref = zipfile.ZipFile(local_zip, 'r')\n",
        "zip_ref.extractall('/content')\n",
        "zip_ref.close()\n"
      ],
      "execution_count": 2,
      "outputs": []
    },
    {
      "cell_type": "code",
      "metadata": {
        "id": "nQIT7yP3yOid",
        "colab": {
          "base_uri": "https://localhost:8080/"
        },
        "outputId": "b13bc912-386b-4145-d599-893ab75bea22"
      },
      "source": [
        "dir = \"/content/bbc\"\n",
        "os.chdir(dir)\n",
        "\n",
        "categories = [\"business\", \"entertainment\", \"politics\", \"sport\", \"tech\"]\n",
        "\n",
        "headline = []\n",
        "category = []\n",
        "\n",
        "for cat in categories:\n",
        "    files = os.listdir(cat)\n",
        "    for file in files:\n",
        "        path = cat + \"/\" + file\n",
        "        with open(path, encoding='utf-8', errors='replace') as f:\n",
        "            data = f.readlines()\n",
        "        data = ' '.join(data)\n",
        "        headline.append(data)\n",
        "        category.append(cat)\n",
        "\n",
        "print(\"Total Headline: \", len(headline))\n",
        "print(\"Total Target: \", len(category))\n"
      ],
      "execution_count": 3,
      "outputs": [
        {
          "output_type": "stream",
          "name": "stdout",
          "text": [
            "Total Headline:  2225\n",
            "Total Target:  2225\n"
          ]
        }
      ]
    },
    {
      "cell_type": "markdown",
      "metadata": {
        "id": "Dn1CjhEaqxEw"
      },
      "source": [
        "## **Making a Dataframe from The Dataset**"
      ]
    },
    {
      "cell_type": "code",
      "metadata": {
        "id": "t0HzOmNmBLh_",
        "colab": {
          "base_uri": "https://localhost:8080/",
          "height": 363
        },
        "outputId": "1906e65e-1ac2-4bb6-e91b-f334bd590cfe"
      },
      "source": [
        "import pandas as pd\n",
        "\n",
        "df = pd.DataFrame(data={\"headline\": headline, \"category\": category})\n",
        "df.sample(10, random_state=88).sort_index()"
      ],
      "execution_count": 5,
      "outputs": [
        {
          "output_type": "execute_result",
          "data": {
            "text/html": [
              "<div>\n",
              "<style scoped>\n",
              "    .dataframe tbody tr th:only-of-type {\n",
              "        vertical-align: middle;\n",
              "    }\n",
              "\n",
              "    .dataframe tbody tr th {\n",
              "        vertical-align: top;\n",
              "    }\n",
              "\n",
              "    .dataframe thead th {\n",
              "        text-align: right;\n",
              "    }\n",
              "</style>\n",
              "<table border=\"1\" class=\"dataframe\">\n",
              "  <thead>\n",
              "    <tr style=\"text-align: right;\">\n",
              "      <th></th>\n",
              "      <th>headline</th>\n",
              "      <th>category</th>\n",
              "    </tr>\n",
              "  </thead>\n",
              "  <tbody>\n",
              "    <tr>\n",
              "      <th>132</th>\n",
              "      <td>Markets fall on weak dollar fears\\n \\n Rising ...</td>\n",
              "      <td>business</td>\n",
              "    </tr>\n",
              "    <tr>\n",
              "      <th>275</th>\n",
              "      <td>Market unfazed by Aurora setback\\n \\n As the A...</td>\n",
              "      <td>business</td>\n",
              "    </tr>\n",
              "    <tr>\n",
              "      <th>368</th>\n",
              "      <td>Qantas sees profits fly to record\\n \\n Austral...</td>\n",
              "      <td>business</td>\n",
              "    </tr>\n",
              "    <tr>\n",
              "      <th>791</th>\n",
              "      <td>Cult band Kasabian surge forward\\n \\n Indie da...</td>\n",
              "      <td>entertainment</td>\n",
              "    </tr>\n",
              "    <tr>\n",
              "      <th>826</th>\n",
              "      <td>BBC to pour £9m into new comedy\\n \\n The BBC i...</td>\n",
              "      <td>entertainment</td>\n",
              "    </tr>\n",
              "    <tr>\n",
              "      <th>997</th>\n",
              "      <td>Brown visits slum on Africa trip\\n \\n Chancell...</td>\n",
              "      <td>politics</td>\n",
              "    </tr>\n",
              "    <tr>\n",
              "      <th>1538</th>\n",
              "      <td>Philippoussis doubt over Open bid\\n \\n Mark Ph...</td>\n",
              "      <td>sport</td>\n",
              "    </tr>\n",
              "    <tr>\n",
              "      <th>2098</th>\n",
              "      <td>US top of supercomputing charts\\n \\n The US ha...</td>\n",
              "      <td>tech</td>\n",
              "    </tr>\n",
              "    <tr>\n",
              "      <th>2177</th>\n",
              "      <td>Tough rules for ringtone sellers\\n \\n Firms th...</td>\n",
              "      <td>tech</td>\n",
              "    </tr>\n",
              "    <tr>\n",
              "      <th>2214</th>\n",
              "      <td>Sporting rivals go to extra time\\n \\n The curr...</td>\n",
              "      <td>tech</td>\n",
              "    </tr>\n",
              "  </tbody>\n",
              "</table>\n",
              "</div>"
            ],
            "text/plain": [
              "                                               headline       category\n",
              "132   Markets fall on weak dollar fears\\n \\n Rising ...       business\n",
              "275   Market unfazed by Aurora setback\\n \\n As the A...       business\n",
              "368   Qantas sees profits fly to record\\n \\n Austral...       business\n",
              "791   Cult band Kasabian surge forward\\n \\n Indie da...  entertainment\n",
              "826   BBC to pour £9m into new comedy\\n \\n The BBC i...  entertainment\n",
              "997   Brown visits slum on Africa trip\\n \\n Chancell...       politics\n",
              "1538  Philippoussis doubt over Open bid\\n \\n Mark Ph...          sport\n",
              "2098  US top of supercomputing charts\\n \\n The US ha...           tech\n",
              "2177  Tough rules for ringtone sellers\\n \\n Firms th...           tech\n",
              "2214  Sporting rivals go to extra time\\n \\n The curr...           tech"
            ]
          },
          "metadata": {},
          "execution_count": 5
        }
      ]
    },
    {
      "cell_type": "markdown",
      "metadata": {
        "id": "nLKSzNNRq_S_"
      },
      "source": [
        "## **Text Cleaning**\n",
        "- Replace newlines with whitespace\n",
        "- Remove redundant/multiple whitspace\n",
        "- Change the text into lowercase\n",
        "- Remove stopwords\n",
        "- Do lemmatization"
      ]
    },
    {
      "cell_type": "code",
      "metadata": {
        "id": "4PD3x4D3RQmh",
        "colab": {
          "base_uri": "https://localhost:8080/"
        },
        "outputId": "a18e331c-b39d-470b-ed04-fc7f26795be4"
      },
      "source": [
        "import re\n",
        "import nltk\n",
        "from nltk.corpus import stopwords\n",
        "from nltk.stem import WordNetLemmatizer\n",
        "\n",
        "nltk.download('stopwords')\n",
        "nltk.download('wordnet')\n",
        "\n",
        "stopword = set(stopwords.words('english'))\n",
        "lemmatizer = WordNetLemmatizer()\n",
        "\n",
        "df_clean = df.copy()\n",
        "df_clean.headline = df_clean.headline.apply(lambda x: x.replace('\\n', ' '))\n",
        "df_clean.headline = df_clean.headline.apply(lambda x: re.sub('[^a-zA-Z0-9\\w\\s]', '', x))\n",
        "df_clean.headline = df_clean.headline.apply(lambda x: re.sub(' +', ' ', x))\n",
        "df_clean.headline = df_clean.headline.apply(lambda x: x.strip().lower())\n",
        "df_clean.headline = df_clean.headline.apply(lambda x: ' '.\n",
        "                                            join([word for word in x.split()\n",
        "                                                  if word not in stopword]))\n",
        "df_clean.headline = df_clean.headline.apply(lambda x: lemmatizer.lemmatize(x))\n"
      ],
      "execution_count": 6,
      "outputs": [
        {
          "output_type": "stream",
          "name": "stdout",
          "text": [
            "[nltk_data] Downloading package stopwords to /root/nltk_data...\n",
            "[nltk_data]   Unzipping corpora/stopwords.zip.\n",
            "[nltk_data] Downloading package wordnet to /root/nltk_data...\n",
            "[nltk_data]   Unzipping corpora/wordnet.zip.\n"
          ]
        }
      ]
    },
    {
      "cell_type": "markdown",
      "metadata": {
        "id": "i1IB1Zr9rsX3"
      },
      "source": [
        "## **Changing The Categories into One Hot Vector**"
      ]
    },
    {
      "cell_type": "code",
      "metadata": {
        "id": "IGyJXG_WBkv-",
        "colab": {
          "base_uri": "https://localhost:8080/",
          "height": 363
        },
        "outputId": "553b5181-ac72-4ebf-c20f-f6eda06c7bab"
      },
      "source": [
        "category = pd.get_dummies(df_clean.category)\n",
        "df_onehot = pd.concat([df_clean, category], axis=1)\n",
        "df_onehot = df_onehot.drop(columns='category')\n",
        "df_onehot.sample(10).sort_index()\n"
      ],
      "execution_count": 7,
      "outputs": [
        {
          "output_type": "execute_result",
          "data": {
            "text/html": [
              "<div>\n",
              "<style scoped>\n",
              "    .dataframe tbody tr th:only-of-type {\n",
              "        vertical-align: middle;\n",
              "    }\n",
              "\n",
              "    .dataframe tbody tr th {\n",
              "        vertical-align: top;\n",
              "    }\n",
              "\n",
              "    .dataframe thead th {\n",
              "        text-align: right;\n",
              "    }\n",
              "</style>\n",
              "<table border=\"1\" class=\"dataframe\">\n",
              "  <thead>\n",
              "    <tr style=\"text-align: right;\">\n",
              "      <th></th>\n",
              "      <th>headline</th>\n",
              "      <th>business</th>\n",
              "      <th>entertainment</th>\n",
              "      <th>politics</th>\n",
              "      <th>sport</th>\n",
              "      <th>tech</th>\n",
              "    </tr>\n",
              "  </thead>\n",
              "  <tbody>\n",
              "    <tr>\n",
              "      <th>630</th>\n",
              "      <td>children vote shrek 2 best film young uk film ...</td>\n",
              "      <td>0</td>\n",
              "      <td>1</td>\n",
              "      <td>0</td>\n",
              "      <td>0</td>\n",
              "      <td>0</td>\n",
              "    </tr>\n",
              "    <tr>\n",
              "      <th>947</th>\n",
              "      <td>labour battle plan hides blair tories accused ...</td>\n",
              "      <td>0</td>\n",
              "      <td>0</td>\n",
              "      <td>1</td>\n",
              "      <td>0</td>\n",
              "      <td>0</td>\n",
              "    </tr>\n",
              "    <tr>\n",
              "      <th>952</th>\n",
              "      <td>brown ally rejects budget spree chancellor gor...</td>\n",
              "      <td>0</td>\n",
              "      <td>0</td>\n",
              "      <td>1</td>\n",
              "      <td>0</td>\n",
              "      <td>0</td>\n",
              "    </tr>\n",
              "    <tr>\n",
              "      <th>1012</th>\n",
              "      <td>tsunami debt deal announced chancellor gordon ...</td>\n",
              "      <td>0</td>\n",
              "      <td>0</td>\n",
              "      <td>1</td>\n",
              "      <td>0</td>\n",
              "      <td>0</td>\n",
              "    </tr>\n",
              "    <tr>\n",
              "      <th>1079</th>\n",
              "      <td>iraqis win death test case probe family iraqi ...</td>\n",
              "      <td>0</td>\n",
              "      <td>0</td>\n",
              "      <td>1</td>\n",
              "      <td>0</td>\n",
              "      <td>0</td>\n",
              "    </tr>\n",
              "    <tr>\n",
              "      <th>1104</th>\n",
              "      <td>assembly ballot papers missing hundreds ballot...</td>\n",
              "      <td>0</td>\n",
              "      <td>0</td>\n",
              "      <td>1</td>\n",
              "      <td>0</td>\n",
              "      <td>0</td>\n",
              "    </tr>\n",
              "    <tr>\n",
              "      <th>1386</th>\n",
              "      <td>bortolami predicts dour contest italy skipper ...</td>\n",
              "      <td>0</td>\n",
              "      <td>0</td>\n",
              "      <td>0</td>\n",
              "      <td>1</td>\n",
              "      <td>0</td>\n",
              "    </tr>\n",
              "    <tr>\n",
              "      <th>1408</th>\n",
              "      <td>gb quartet get cross country call four british...</td>\n",
              "      <td>0</td>\n",
              "      <td>0</td>\n",
              "      <td>0</td>\n",
              "      <td>1</td>\n",
              "      <td>0</td>\n",
              "    </tr>\n",
              "    <tr>\n",
              "      <th>1521</th>\n",
              "      <td>newcastle 21 bolton kieron dyer smashed home w...</td>\n",
              "      <td>0</td>\n",
              "      <td>0</td>\n",
              "      <td>0</td>\n",
              "      <td>1</td>\n",
              "      <td>0</td>\n",
              "    </tr>\n",
              "    <tr>\n",
              "      <th>1670</th>\n",
              "      <td>italy 838 wales wales secured first away win r...</td>\n",
              "      <td>0</td>\n",
              "      <td>0</td>\n",
              "      <td>0</td>\n",
              "      <td>1</td>\n",
              "      <td>0</td>\n",
              "    </tr>\n",
              "  </tbody>\n",
              "</table>\n",
              "</div>"
            ],
            "text/plain": [
              "                                               headline  business  ...  sport  tech\n",
              "630   children vote shrek 2 best film young uk film ...         0  ...      0     0\n",
              "947   labour battle plan hides blair tories accused ...         0  ...      0     0\n",
              "952   brown ally rejects budget spree chancellor gor...         0  ...      0     0\n",
              "1012  tsunami debt deal announced chancellor gordon ...         0  ...      0     0\n",
              "1079  iraqis win death test case probe family iraqi ...         0  ...      0     0\n",
              "1104  assembly ballot papers missing hundreds ballot...         0  ...      0     0\n",
              "1386  bortolami predicts dour contest italy skipper ...         0  ...      1     0\n",
              "1408  gb quartet get cross country call four british...         0  ...      1     0\n",
              "1521  newcastle 21 bolton kieron dyer smashed home w...         0  ...      1     0\n",
              "1670  italy 838 wales wales secured first away win r...         0  ...      1     0\n",
              "\n",
              "[10 rows x 6 columns]"
            ]
          },
          "metadata": {},
          "execution_count": 7
        }
      ]
    },
    {
      "cell_type": "code",
      "metadata": {
        "id": "QKPYg9ZBC0p6"
      },
      "source": [
        "X = df_onehot.headline.values\n",
        "y = df_onehot[[\"business\",\n",
        "               \"entertainment\",\n",
        "               \"politics\",\n",
        "               \"sport\",\n",
        "               \"tech\"]].values\n"
      ],
      "execution_count": 8,
      "outputs": []
    },
    {
      "cell_type": "markdown",
      "metadata": {
        "id": "EZajg0YJr7em"
      },
      "source": [
        "## **Splitting The Data into Data Train and Data Test (80% : 20%)**"
      ]
    },
    {
      "cell_type": "code",
      "metadata": {
        "id": "_B8motlSr47U",
        "colab": {
          "base_uri": "https://localhost:8080/"
        },
        "outputId": "c73901c9-4afd-4ec9-ccb5-0519bef4cadc"
      },
      "source": [
        "from sklearn.model_selection import train_test_split\n",
        "\n",
        "X_train, X_test, y_train, y_test = train_test_split(X, y,\n",
        "                                                    random_state= 888,\n",
        "                                                    test_size=0.2,\n",
        "                                                    stratify=y)\n",
        "\n",
        "print(\"Total data train: \", len(y_train))\n",
        "print(\"Total data test: \", len(y_test))\n"
      ],
      "execution_count": 9,
      "outputs": [
        {
          "output_type": "stream",
          "name": "stdout",
          "text": [
            "Total data train:  1780\n",
            "Total data test:  445\n"
          ]
        }
      ]
    },
    {
      "cell_type": "markdown",
      "metadata": {
        "id": "G3m0AoPtsLo-"
      },
      "source": [
        "## **Tokenizing the text and change the document's tokenized text into word indices**"
      ]
    },
    {
      "cell_type": "code",
      "metadata": {
        "id": "M5ByB-wED4vy"
      },
      "source": [
        "from tensorflow.keras.preprocessing.text import Tokenizer\n",
        "from tensorflow.keras.preprocessing.sequence import pad_sequences\n",
        "\n",
        "tokenizer = Tokenizer()\n",
        "tokenizer.fit_on_texts(X_train)\n",
        "\n",
        "X_train_seq = tokenizer.texts_to_sequences(X_train)\n",
        "X_test_seq = tokenizer.texts_to_sequences(X_test)\n",
        "\n",
        "padded_train = pad_sequences(X_train_seq, maxlen=300, padding=\"post\",\n",
        "                             truncating=\"post\")\n",
        "padded_test = pad_sequences(X_test_seq, maxlen=300, padding=\"post\",\n",
        "                            truncating=\"post\")\n"
      ],
      "execution_count": 10,
      "outputs": []
    },
    {
      "cell_type": "code",
      "metadata": {
        "id": "vmcFSCE1sQNY",
        "colab": {
          "base_uri": "https://localhost:8080/"
        },
        "outputId": "8f701a7a-73f0-4688-f9d5-494f72876479"
      },
      "source": [
        "VOCAB_SIZE = len(tokenizer.word_index)+1\n",
        "VOCAB_SIZE"
      ],
      "execution_count": 11,
      "outputs": [
        {
          "output_type": "execute_result",
          "data": {
            "text/plain": [
              "30780"
            ]
          },
          "metadata": {},
          "execution_count": 11
        }
      ]
    },
    {
      "cell_type": "markdown",
      "metadata": {
        "id": "DOb8x5vVsgBR"
      },
      "source": [
        "## **Designing the model**"
      ]
    },
    {
      "cell_type": "code",
      "metadata": {
        "id": "tUcQ-lyfFZbu",
        "colab": {
          "base_uri": "https://localhost:8080/"
        },
        "outputId": "fa683427-5245-42a9-afcf-3f7fe1283ad7"
      },
      "source": [
        "import tensorflow as tf\n",
        "model = tf.keras.Sequential([\n",
        "    tf.keras.layers.Embedding(VOCAB_SIZE, 200, input_length=300),\n",
        "    tf.keras.layers.SpatialDropout1D(0.25),\n",
        "    tf.keras.layers.LSTM(128, dropout=0.25),\n",
        "    tf.keras.layers.Dense(256, activation='relu'),\n",
        "    tf.keras.layers.Dropout(0.2),\n",
        "    tf.keras.layers.Dense(256, activation='relu'),\n",
        "    tf.keras.layers.Dropout(0.2),\n",
        "    tf.keras.layers.Dense(5, activation='softmax')\n",
        "])\n",
        "model.compile(loss='categorical_crossentropy', optimizer='adam',\n",
        "              metrics=['accuracy'])\n",
        "\n",
        "model.summary()\n"
      ],
      "execution_count": 12,
      "outputs": [
        {
          "output_type": "stream",
          "name": "stdout",
          "text": [
            "Model: \"sequential\"\n",
            "_________________________________________________________________\n",
            " Layer (type)                Output Shape              Param #   \n",
            "=================================================================\n",
            " embedding (Embedding)       (None, 300, 200)          6156000   \n",
            "                                                                 \n",
            " spatial_dropout1d (SpatialD  (None, 300, 200)         0         \n",
            " ropout1D)                                                       \n",
            "                                                                 \n",
            " lstm (LSTM)                 (None, 128)               168448    \n",
            "                                                                 \n",
            " dense (Dense)               (None, 256)               33024     \n",
            "                                                                 \n",
            " dropout (Dropout)           (None, 256)               0         \n",
            "                                                                 \n",
            " dense_1 (Dense)             (None, 256)               65792     \n",
            "                                                                 \n",
            " dropout_1 (Dropout)         (None, 256)               0         \n",
            "                                                                 \n",
            " dense_2 (Dense)             (None, 5)                 1285      \n",
            "                                                                 \n",
            "=================================================================\n",
            "Total params: 6,424,549\n",
            "Trainable params: 6,424,549\n",
            "Non-trainable params: 0\n",
            "_________________________________________________________________\n"
          ]
        }
      ]
    },
    {
      "cell_type": "markdown",
      "metadata": {
        "id": "2o7q1-vdskys"
      },
      "source": [
        "## **Callback function**"
      ]
    },
    {
      "cell_type": "code",
      "metadata": {
        "id": "XKU_8YdrMZUY"
      },
      "source": [
        "class stopCallback(tf.keras.callbacks.Callback):\n",
        "    def on_epoch_end(self, epoch, logs={}):\n",
        "        if(logs.get('accuracy') > 0.91 and logs.get('val_accuracy') > 0.91):\n",
        "            print(\"Train Accuracy : {}, Test Accuracy : {}\".\n",
        "                  format(logs.get('accuracy'),\n",
        "                         logs.get('val_accuracy')))\n",
        "            self.model.stop_training = True\n",
        "\n",
        "\n",
        "best_acc = 0\n",
        "best_val_acc = 0\n",
        "\n",
        "\n",
        "def saveModel(epoch, logs):\n",
        "    global best_acc\n",
        "    global best_val_acc\n",
        "    acc = logs['accuracy']\n",
        "    val_acc = logs['val_accuracy']\n",
        "\n",
        "    if val_acc > best_val_acc:\n",
        "        best_val_acc = val_acc\n",
        "        model.save('/content/best_model.h5')\n",
        "        print(\"\\n======MODEL SAVED=======\\n\")\n",
        "    elif best_acc < 0.9 and acc > 0.9 and val_acc > 0.9:\n",
        "        best_acc = acc\n",
        "        best_val_acc = val_acc\n",
        "        model.save('/content/best_model.h5')\n",
        "        print(\"\\n======MODEL SAVED=======\\n\")\n",
        "    elif val_acc == best_val_acc:\n",
        "        if acc > best_acc:\n",
        "            best_acc = acc\n",
        "            model.save('/tmp/best_model.h5')\n",
        "            print(\"\\n======MODEL SAVED=======\\n\")\n",
        "\n",
        "callbacks = [tf.keras.callbacks.LambdaCallback(on_epoch_end=saveModel),\n",
        "             stopCallback()]\n"
      ],
      "execution_count": 13,
      "outputs": []
    },
    {
      "cell_type": "markdown",
      "metadata": {
        "id": "TzOGaJiXsod0"
      },
      "source": [
        "## **Training the model**"
      ]
    },
    {
      "cell_type": "code",
      "metadata": {
        "id": "hnxRlXHSFc1N",
        "colab": {
          "base_uri": "https://localhost:8080/"
        },
        "outputId": "f95813f8-f016-4700-c723-a8e9021660c0"
      },
      "source": [
        "num_epochs = 100\n",
        "history = model.fit(padded_train, y_train, epochs=num_epochs,\n",
        "                    validation_data=(padded_test, y_test),\n",
        "                    callbacks=callbacks)\n"
      ],
      "execution_count": 14,
      "outputs": [
        {
          "output_type": "stream",
          "name": "stdout",
          "text": [
            "Epoch 1/100\n",
            " 6/56 [==>...........................] - ETA: 4s - loss: 1.6063 - accuracy: 0.2135WARNING:tensorflow:Callback method `on_train_batch_end` is slow compared to the batch time (batch time: 0.0303s vs `on_train_batch_end` time: 0.0389s). Check your callbacks.\n",
            "56/56 [==============================] - ETA: 0s - loss: 1.5911 - accuracy: 0.2494\n",
            "======MODEL SAVED=======\n",
            "\n",
            "56/56 [==============================] - 10s 84ms/step - loss: 1.5911 - accuracy: 0.2494 - val_loss: 1.5571 - val_accuracy: 0.2764\n",
            "Epoch 2/100\n",
            "56/56 [==============================] - ETA: 0s - loss: 1.5338 - accuracy: 0.2781\n",
            "======MODEL SAVED=======\n",
            "\n",
            "56/56 [==============================] - 4s 71ms/step - loss: 1.5338 - accuracy: 0.2781 - val_loss: 1.5129 - val_accuracy: 0.2944\n",
            "Epoch 3/100\n",
            "56/56 [==============================] - ETA: 0s - loss: 1.4560 - accuracy: 0.3399\n",
            "======MODEL SAVED=======\n",
            "\n",
            "56/56 [==============================] - 4s 70ms/step - loss: 1.4560 - accuracy: 0.3399 - val_loss: 1.4976 - val_accuracy: 0.3213\n",
            "Epoch 4/100\n",
            "56/56 [==============================] - ETA: 0s - loss: 1.4002 - accuracy: 0.3506\n",
            "======MODEL SAVED=======\n",
            "\n",
            "56/56 [==============================] - 4s 71ms/step - loss: 1.4002 - accuracy: 0.3506 - val_loss: 1.4580 - val_accuracy: 0.3393\n",
            "Epoch 5/100\n",
            "56/56 [==============================] - ETA: 0s - loss: 1.2222 - accuracy: 0.4185\n",
            "======MODEL SAVED=======\n",
            "\n",
            "56/56 [==============================] - 4s 70ms/step - loss: 1.2222 - accuracy: 0.4185 - val_loss: 1.1557 - val_accuracy: 0.4494\n",
            "Epoch 6/100\n",
            "56/56 [==============================] - 4s 66ms/step - loss: 1.0890 - accuracy: 0.4511 - val_loss: 1.1772 - val_accuracy: 0.3798\n",
            "Epoch 7/100\n",
            "56/56 [==============================] - ETA: 0s - loss: 1.1186 - accuracy: 0.4506\n",
            "======MODEL SAVED=======\n",
            "\n",
            "56/56 [==============================] - 4s 69ms/step - loss: 1.1186 - accuracy: 0.4506 - val_loss: 1.1460 - val_accuracy: 0.4607\n",
            "Epoch 8/100\n",
            "56/56 [==============================] - 4s 65ms/step - loss: 1.4503 - accuracy: 0.3376 - val_loss: 1.4475 - val_accuracy: 0.2831\n",
            "Epoch 9/100\n",
            "56/56 [==============================] - 4s 66ms/step - loss: 1.4099 - accuracy: 0.3466 - val_loss: 1.5275 - val_accuracy: 0.2944\n",
            "Epoch 10/100\n",
            "56/56 [==============================] - 4s 66ms/step - loss: 1.4227 - accuracy: 0.3202 - val_loss: 1.3987 - val_accuracy: 0.3461\n",
            "Epoch 11/100\n",
            "56/56 [==============================] - 4s 66ms/step - loss: 1.3312 - accuracy: 0.3860 - val_loss: 1.3897 - val_accuracy: 0.3708\n",
            "Epoch 12/100\n",
            "56/56 [==============================] - ETA: 0s - loss: 1.2845 - accuracy: 0.4331\n",
            "======MODEL SAVED=======\n",
            "\n",
            "56/56 [==============================] - 4s 70ms/step - loss: 1.2845 - accuracy: 0.4331 - val_loss: 1.2299 - val_accuracy: 0.5011\n",
            "Epoch 13/100\n",
            "56/56 [==============================] - 4s 66ms/step - loss: 1.1851 - accuracy: 0.4691 - val_loss: 1.2388 - val_accuracy: 0.4989\n",
            "Epoch 14/100\n",
            "56/56 [==============================] - 4s 66ms/step - loss: 1.1954 - accuracy: 0.4483 - val_loss: 1.1898 - val_accuracy: 0.4562\n",
            "Epoch 15/100\n",
            "56/56 [==============================] - 4s 65ms/step - loss: 1.1541 - accuracy: 0.4803 - val_loss: 1.1211 - val_accuracy: 0.4854\n",
            "Epoch 16/100\n",
            "56/56 [==============================] - ETA: 0s - loss: 1.1947 - accuracy: 0.5000\n",
            "======MODEL SAVED=======\n",
            "\n",
            "56/56 [==============================] - 4s 70ms/step - loss: 1.1947 - accuracy: 0.5000 - val_loss: 1.1680 - val_accuracy: 0.5101\n",
            "Epoch 17/100\n",
            "56/56 [==============================] - ETA: 0s - loss: 1.0526 - accuracy: 0.5202\n",
            "======MODEL SAVED=======\n",
            "\n",
            "56/56 [==============================] - 4s 70ms/step - loss: 1.0526 - accuracy: 0.5202 - val_loss: 1.0374 - val_accuracy: 0.5326\n",
            "Epoch 18/100\n",
            "56/56 [==============================] - 4s 66ms/step - loss: 1.1049 - accuracy: 0.5483 - val_loss: 1.2387 - val_accuracy: 0.4247\n",
            "Epoch 19/100\n",
            "56/56 [==============================] - 4s 66ms/step - loss: 1.3280 - accuracy: 0.4146 - val_loss: 1.4817 - val_accuracy: 0.2742\n",
            "Epoch 20/100\n",
            "56/56 [==============================] - ETA: 0s - loss: 1.2450 - accuracy: 0.4573\n",
            "======MODEL SAVED=======\n",
            "\n",
            "56/56 [==============================] - 4s 70ms/step - loss: 1.2450 - accuracy: 0.4573 - val_loss: 0.9713 - val_accuracy: 0.5551\n",
            "Epoch 21/100\n",
            "56/56 [==============================] - 4s 67ms/step - loss: 1.1832 - accuracy: 0.4860 - val_loss: 1.2719 - val_accuracy: 0.4270\n",
            "Epoch 22/100\n",
            "56/56 [==============================] - 4s 66ms/step - loss: 1.0527 - accuracy: 0.4860 - val_loss: 0.9683 - val_accuracy: 0.5506\n",
            "Epoch 23/100\n",
            "56/56 [==============================] - ETA: 0s - loss: 1.0536 - accuracy: 0.4955\n",
            "======MODEL SAVED=======\n",
            "\n",
            "56/56 [==============================] - 4s 69ms/step - loss: 1.0536 - accuracy: 0.4955 - val_loss: 0.9674 - val_accuracy: 0.5820\n",
            "Epoch 24/100\n",
            "56/56 [==============================] - ETA: 0s - loss: 0.9465 - accuracy: 0.5871\n",
            "======MODEL SAVED=======\n",
            "\n",
            "56/56 [==============================] - 4s 69ms/step - loss: 0.9465 - accuracy: 0.5871 - val_loss: 0.9370 - val_accuracy: 0.6315\n",
            "Epoch 25/100\n",
            "56/56 [==============================] - 4s 65ms/step - loss: 0.8571 - accuracy: 0.5904 - val_loss: 0.8971 - val_accuracy: 0.5753\n",
            "Epoch 26/100\n",
            "56/56 [==============================] - 4s 66ms/step - loss: 0.9649 - accuracy: 0.5343 - val_loss: 0.9835 - val_accuracy: 0.5483\n",
            "Epoch 27/100\n",
            "56/56 [==============================] - 4s 65ms/step - loss: 0.9173 - accuracy: 0.5545 - val_loss: 0.9894 - val_accuracy: 0.5528\n",
            "Epoch 28/100\n",
            "56/56 [==============================] - 4s 65ms/step - loss: 0.9108 - accuracy: 0.5657 - val_loss: 1.0475 - val_accuracy: 0.5483\n",
            "Epoch 29/100\n",
            "56/56 [==============================] - ETA: 0s - loss: 0.9095 - accuracy: 0.5921\n",
            "======MODEL SAVED=======\n",
            "\n",
            "56/56 [==============================] - 4s 69ms/step - loss: 0.9095 - accuracy: 0.5921 - val_loss: 0.8384 - val_accuracy: 0.6337\n",
            "Epoch 30/100\n",
            "56/56 [==============================] - ETA: 0s - loss: 0.7607 - accuracy: 0.6663\n",
            "======MODEL SAVED=======\n",
            "\n",
            "56/56 [==============================] - 4s 70ms/step - loss: 0.7607 - accuracy: 0.6663 - val_loss: 0.8774 - val_accuracy: 0.6449\n",
            "Epoch 31/100\n",
            "56/56 [==============================] - 4s 66ms/step - loss: 0.7083 - accuracy: 0.6427 - val_loss: 0.8130 - val_accuracy: 0.5798\n",
            "Epoch 32/100\n",
            "56/56 [==============================] - 4s 66ms/step - loss: 0.6661 - accuracy: 0.6478 - val_loss: 0.7869 - val_accuracy: 0.6270\n",
            "Epoch 33/100\n",
            "56/56 [==============================] - 4s 67ms/step - loss: 0.6779 - accuracy: 0.6331 - val_loss: 0.7575 - val_accuracy: 0.6315\n",
            "Epoch 34/100\n",
            "56/56 [==============================] - ETA: 0s - loss: 0.6695 - accuracy: 0.6449\n",
            "======MODEL SAVED=======\n",
            "\n",
            "56/56 [==============================] - 4s 70ms/step - loss: 0.6695 - accuracy: 0.6449 - val_loss: 0.7214 - val_accuracy: 0.6876\n",
            "Epoch 35/100\n",
            "56/56 [==============================] - ETA: 0s - loss: 0.5131 - accuracy: 0.7871\n",
            "======MODEL SAVED=======\n",
            "\n",
            "56/56 [==============================] - 4s 70ms/step - loss: 0.5131 - accuracy: 0.7871 - val_loss: 0.5727 - val_accuracy: 0.8000\n",
            "Epoch 36/100\n",
            "56/56 [==============================] - 4s 66ms/step - loss: 0.4404 - accuracy: 0.8118 - val_loss: 0.5987 - val_accuracy: 0.7865\n",
            "Epoch 37/100\n",
            "56/56 [==============================] - 4s 67ms/step - loss: 0.3229 - accuracy: 0.8213 - val_loss: 0.6697 - val_accuracy: 0.7326\n",
            "Epoch 38/100\n",
            "56/56 [==============================] - 4s 66ms/step - loss: 0.3009 - accuracy: 0.8691 - val_loss: 0.5414 - val_accuracy: 0.7910\n",
            "Epoch 39/100\n",
            "56/56 [==============================] - ETA: 0s - loss: 0.2457 - accuracy: 0.9006\n",
            "======MODEL SAVED=======\n",
            "\n",
            "56/56 [==============================] - 4s 70ms/step - loss: 0.2457 - accuracy: 0.9006 - val_loss: 0.4820 - val_accuracy: 0.8652\n",
            "Epoch 40/100\n",
            "56/56 [==============================] - 4s 66ms/step - loss: 0.1941 - accuracy: 0.9421 - val_loss: 0.5422 - val_accuracy: 0.8562\n",
            "Epoch 41/100\n",
            "56/56 [==============================] - 4s 67ms/step - loss: 0.1826 - accuracy: 0.9433 - val_loss: 0.5558 - val_accuracy: 0.8494\n",
            "Epoch 42/100\n",
            "56/56 [==============================] - 4s 66ms/step - loss: 0.1711 - accuracy: 0.9427 - val_loss: 0.5531 - val_accuracy: 0.8472\n",
            "Epoch 43/100\n",
            "56/56 [==============================] - 4s 66ms/step - loss: 0.1762 - accuracy: 0.9348 - val_loss: 0.5580 - val_accuracy: 0.8360\n",
            "Epoch 44/100\n",
            "56/56 [==============================] - 4s 66ms/step - loss: 0.2293 - accuracy: 0.9331 - val_loss: 1.5635 - val_accuracy: 0.6607\n",
            "Epoch 45/100\n",
            "56/56 [==============================] - 4s 66ms/step - loss: 0.6482 - accuracy: 0.7478 - val_loss: 0.5813 - val_accuracy: 0.8112\n",
            "Epoch 46/100\n",
            "56/56 [==============================] - 4s 66ms/step - loss: 0.3910 - accuracy: 0.8444 - val_loss: 0.7489 - val_accuracy: 0.7258\n",
            "Epoch 47/100\n",
            "56/56 [==============================] - 4s 66ms/step - loss: 0.3216 - accuracy: 0.8753 - val_loss: 0.5200 - val_accuracy: 0.8629\n",
            "Epoch 48/100\n",
            "56/56 [==============================] - ETA: 0s - loss: 0.2594 - accuracy: 0.9213\n",
            "======MODEL SAVED=======\n",
            "\n",
            "Train Accuracy : 0.9213483333587646, Test Accuracy : 0.9123595356941223\n",
            "56/56 [==============================] - 4s 69ms/step - loss: 0.2594 - accuracy: 0.9213 - val_loss: 0.4338 - val_accuracy: 0.9124\n"
          ]
        }
      ]
    },
    {
      "cell_type": "code",
      "metadata": {
        "colab": {
          "base_uri": "https://localhost:8080/",
          "height": 313
        },
        "id": "2uejPjiYQIsb",
        "outputId": "45411dbc-9d50-45e4-85e8-d5186bbb1c44"
      },
      "source": [
        "import matplotlib.pyplot as plt\n",
        "\n",
        "fig, ax = plt.subplots(2, constrained_layout=True)\n",
        "ax[0].plot(range(1, len(history.history['accuracy'])+1), history.history['accuracy'], label='Accuracy (training data)', marker='o')\n",
        "ax[0].plot(range(1, len(history.history['accuracy'])+1), history.history['val_accuracy'], label='Accuracy (validation data)', marker='o')\n",
        "ax[0].set_title('Accuracy')\n",
        "ax[0].set_ylabel('Accuracy')\n",
        "ax[0].set_xlabel('Epoch')\n",
        "ax[0].legend(loc=\"lower right\")\n",
        "\n",
        "ax[1].plot(range(1, len(history.history['accuracy'])+1), history.history['loss'], label='Loss (training data)', marker='o')\n",
        "ax[1].plot(range(1, len(history.history['accuracy'])+1), history.history['val_loss'], label='Loss (validation data)', marker='o')\n",
        "ax[1].set_title('Loss')\n",
        "ax[1].set_ylabel('Loss')\n",
        "ax[1].set_xlabel('Epoch')\n",
        "ax[1].legend(loc=\"upper right\")\n",
        "\n",
        "plt.show()"
      ],
      "execution_count": 15,
      "outputs": [
        {
          "output_type": "display_data",
          "data": {
            "image/png": "[encoded data removed]",
            "text/plain": [
              "<Figure size 432x288 with 2 Axes>"
            ]
          },
          "metadata": {
            "needs_background": "light"
          }
        }
      ]
    },
    {
      "cell_type": "markdown",
      "metadata": {
        "id": "YXmFOz4qswFk"
      },
      "source": [
        "## **Load the best model**"
      ]
    },
    {
      "cell_type": "code",
      "metadata": {
        "id": "uJDplpKml6dH"
      },
      "source": [
        "model = tf.keras.models.load_model(\"/content/best_model.h5\")"
      ],
      "execution_count": 16,
      "outputs": []
    },
    {
      "cell_type": "markdown",
      "metadata": {
        "id": "_Hek6BdPs5K9"
      },
      "source": [
        "## **Testing the model**"
      ]
    },
    {
      "cell_type": "code",
      "metadata": {
        "id": "TvIze1uNivYu",
        "colab": {
          "base_uri": "https://localhost:8080/"
        },
        "outputId": "f91b0033-3234-4ab2-ec69-08c00942d81f"
      },
      "source": [
        "from sklearn.metrics import accuracy_score, classification_report, confusion_matrix\n",
        "import numpy as np\n",
        "\n",
        "train_prediction = np.argmax(model.predict(padded_train), axis=1)\n",
        "test_prediction = np.argmax(model.predict(padded_test), axis=1)\n",
        "\n",
        "print(\"Accuracy data train : \", accuracy_score(train_prediction,\n",
        "                                               np.argmax(y_train, axis=1)))\n",
        "print(\"Accuracy data test : \", accuracy_score(test_prediction,\n",
        "                                              np.argmax(y_test, axis=1)))\n",
        "\n",
        "print()\n",
        "\n",
        "print(\"Classification Report\")\n",
        "print(classification_report(test_prediction, np.argmax(y_test, axis=1), target_names=['Business', 'Entertaintment', 'Politics', 'Sport', 'Tech']))\n",
        "\n",
        "print(\"Confussion Matrix\")\n",
        "print(confusion_matrix(test_prediction, np.argmax(y_test, axis=1)))"
      ],
      "execution_count": 17,
      "outputs": [
        {
          "output_type": "stream",
          "name": "stdout",
          "text": [
            "Accuracy data train :  0.9870786516853932\n",
            "Accuracy data test :  0.9123595505617977\n",
            "\n",
            "Classification Report\n",
            "                precision    recall  f1-score   support\n",
            "\n",
            "      Business       0.88      0.86      0.87       105\n",
            "Entertaintment       0.86      0.84      0.85        79\n",
            "      Politics       0.93      0.95      0.94        82\n",
            "         Sport       0.98      0.98      0.98       102\n",
            "          Tech       0.90      0.94      0.92        77\n",
            "\n",
            "      accuracy                           0.91       445\n",
            "     macro avg       0.91      0.91      0.91       445\n",
            "  weighted avg       0.91      0.91      0.91       445\n",
            "\n",
            "Confussion Matrix\n",
            "[[ 90   5   2   0   8]\n",
            " [  8  66   3   2   0]\n",
            " [  1   3  78   0   0]\n",
            " [  0   2   0 100   0]\n",
            " [  3   1   1   0  72]]\n"
          ]
        }
      ]
    }
  ]
}