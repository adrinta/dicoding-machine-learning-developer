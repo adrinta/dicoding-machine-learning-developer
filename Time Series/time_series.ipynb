{
  "nbformat": 4,
  "nbformat_minor": 0,
  "metadata": {
    "colab": {
      "name": "time-series.ipynb",
      "provenance": []
    },
    "kernelspec": {
      "name": "python3",
      "display_name": "Python 3"
    },
    "accelerator": "GPU"
  },
  "cells": [
    {
      "cell_type": "markdown",
      "metadata": {
        "id": "djavUXRU2ZNp"
      },
      "source": [
        "## **Forecasting PM2.5 Value**\n",
        "\n",
        "**PM2.5 is an air pollutant that is a concern for people's health when levels in air are high**\n",
        "\n",
        "Attribute Information:\n",
        "\n",
        "1. No: row number\n",
        "2. year: year of data in this row\n",
        "3. month: month of data in this row\n",
        "4. day: day of data in this row\n",
        "5. hour: hour of data in this row\n",
        "6. pm2.5: PM2.5 concentration (ug/m^3)\n",
        "7. DEWP: Dew Point\n",
        "8. TEMP: Temperature\n",
        "9. PRES: Pressure (hPa)\n",
        "10. cbwd: Combined wind direction\n",
        "11. Iws: Cumulated wind speed (m/s)\n",
        "12. Is: Cumulated hours of snow\n",
        "13. Ir: Cumulated hours of rain\n"
      ]
    },
    {
      "cell_type": "markdown",
      "metadata": {
        "id": "jhJzUZrI79Z2"
      },
      "source": [
        "### **Load Library**"
      ]
    },
    {
      "cell_type": "code",
      "metadata": {
        "id": "PKTFrYoLcFeX"
      },
      "source": [
        "import numpy as np\n",
        "import pandas as pd\n",
        "from keras.layers import Dense, LSTM\n",
        "from sklearn.preprocessing import MinMaxScaler\n",
        "from sklearn.model_selection import train_test_split\n",
        "from sklearn.metrics import mean_absolute_error\n",
        "import matplotlib.pyplot as plt\n",
        "import tensorflow as tf"
      ],
      "execution_count": 1,
      "outputs": []
    },
    {
      "cell_type": "markdown",
      "metadata": {
        "id": "6wSFG_N77X4r"
      },
      "source": [
        "### **Load Data**"
      ]
    },
    {
      "cell_type": "code",
      "metadata": {
        "id": "ULxz1ZZocnKH",
        "colab": {
          "base_uri": "https://localhost:8080/",
          "height": 206
        },
        "outputId": "384b92b3-23f6-4e3f-c62f-333c57a8d853"
      },
      "source": [
        "data = pd.read_csv(\"https://archive.ics.uci.edu/ml/machine-learning-databases/00381/PRSA_data_2010.1.1-2014.12.31.csv\")\n",
        "data.head()"
      ],
      "execution_count": 2,
      "outputs": [
        {
          "output_type": "execute_result",
          "data": {
            "text/html": [
              "<div>\n",
              "<style scoped>\n",
              "    .dataframe tbody tr th:only-of-type {\n",
              "        vertical-align: middle;\n",
              "    }\n",
              "\n",
              "    .dataframe tbody tr th {\n",
              "        vertical-align: top;\n",
              "    }\n",
              "\n",
              "    .dataframe thead th {\n",
              "        text-align: right;\n",
              "    }\n",
              "</style>\n",
              "<table border=\"1\" class=\"dataframe\">\n",
              "  <thead>\n",
              "    <tr style=\"text-align: right;\">\n",
              "      <th></th>\n",
              "      <th>No</th>\n",
              "      <th>year</th>\n",
              "      <th>month</th>\n",
              "      <th>day</th>\n",
              "      <th>hour</th>\n",
              "      <th>pm2.5</th>\n",
              "      <th>DEWP</th>\n",
              "      <th>TEMP</th>\n",
              "      <th>PRES</th>\n",
              "      <th>cbwd</th>\n",
              "      <th>Iws</th>\n",
              "      <th>Is</th>\n",
              "      <th>Ir</th>\n",
              "    </tr>\n",
              "  </thead>\n",
              "  <tbody>\n",
              "    <tr>\n",
              "      <th>0</th>\n",
              "      <td>1</td>\n",
              "      <td>2010</td>\n",
              "      <td>1</td>\n",
              "      <td>1</td>\n",
              "      <td>0</td>\n",
              "      <td>NaN</td>\n",
              "      <td>-21</td>\n",
              "      <td>-11.0</td>\n",
              "      <td>1021.0</td>\n",
              "      <td>NW</td>\n",
              "      <td>1.79</td>\n",
              "      <td>0</td>\n",
              "      <td>0</td>\n",
              "    </tr>\n",
              "    <tr>\n",
              "      <th>1</th>\n",
              "      <td>2</td>\n",
              "      <td>2010</td>\n",
              "      <td>1</td>\n",
              "      <td>1</td>\n",
              "      <td>1</td>\n",
              "      <td>NaN</td>\n",
              "      <td>-21</td>\n",
              "      <td>-12.0</td>\n",
              "      <td>1020.0</td>\n",
              "      <td>NW</td>\n",
              "      <td>4.92</td>\n",
              "      <td>0</td>\n",
              "      <td>0</td>\n",
              "    </tr>\n",
              "    <tr>\n",
              "      <th>2</th>\n",
              "      <td>3</td>\n",
              "      <td>2010</td>\n",
              "      <td>1</td>\n",
              "      <td>1</td>\n",
              "      <td>2</td>\n",
              "      <td>NaN</td>\n",
              "      <td>-21</td>\n",
              "      <td>-11.0</td>\n",
              "      <td>1019.0</td>\n",
              "      <td>NW</td>\n",
              "      <td>6.71</td>\n",
              "      <td>0</td>\n",
              "      <td>0</td>\n",
              "    </tr>\n",
              "    <tr>\n",
              "      <th>3</th>\n",
              "      <td>4</td>\n",
              "      <td>2010</td>\n",
              "      <td>1</td>\n",
              "      <td>1</td>\n",
              "      <td>3</td>\n",
              "      <td>NaN</td>\n",
              "      <td>-21</td>\n",
              "      <td>-14.0</td>\n",
              "      <td>1019.0</td>\n",
              "      <td>NW</td>\n",
              "      <td>9.84</td>\n",
              "      <td>0</td>\n",
              "      <td>0</td>\n",
              "    </tr>\n",
              "    <tr>\n",
              "      <th>4</th>\n",
              "      <td>5</td>\n",
              "      <td>2010</td>\n",
              "      <td>1</td>\n",
              "      <td>1</td>\n",
              "      <td>4</td>\n",
              "      <td>NaN</td>\n",
              "      <td>-20</td>\n",
              "      <td>-12.0</td>\n",
              "      <td>1018.0</td>\n",
              "      <td>NW</td>\n",
              "      <td>12.97</td>\n",
              "      <td>0</td>\n",
              "      <td>0</td>\n",
              "    </tr>\n",
              "  </tbody>\n",
              "</table>\n",
              "</div>"
            ],
            "text/plain": [
              "   No  year  month  day  hour  pm2.5  DEWP  TEMP    PRES cbwd    Iws  Is  Ir\n",
              "0   1  2010      1    1     0    NaN   -21 -11.0  1021.0   NW   1.79   0   0\n",
              "1   2  2010      1    1     1    NaN   -21 -12.0  1020.0   NW   4.92   0   0\n",
              "2   3  2010      1    1     2    NaN   -21 -11.0  1019.0   NW   6.71   0   0\n",
              "3   4  2010      1    1     3    NaN   -21 -14.0  1019.0   NW   9.84   0   0\n",
              "4   5  2010      1    1     4    NaN   -20 -12.0  1018.0   NW  12.97   0   0"
            ]
          },
          "metadata": {},
          "execution_count": 2
        }
      ]
    },
    {
      "cell_type": "markdown",
      "metadata": {
        "id": "gYPkz6wt8NBw"
      },
      "source": [
        "### **Dropping data with NaN value of PM2.5**"
      ]
    },
    {
      "cell_type": "code",
      "metadata": {
        "id": "I8gy5_JJhFDd",
        "colab": {
          "base_uri": "https://localhost:8080/",
          "height": 206
        },
        "outputId": "1f7e65f9-fb01-4b78-ed60-dc70e9327ed4"
      },
      "source": [
        "data = data.dropna()\n",
        "data.head()"
      ],
      "execution_count": 3,
      "outputs": [
        {
          "output_type": "execute_result",
          "data": {
            "text/html": [
              "<div>\n",
              "<style scoped>\n",
              "    .dataframe tbody tr th:only-of-type {\n",
              "        vertical-align: middle;\n",
              "    }\n",
              "\n",
              "    .dataframe tbody tr th {\n",
              "        vertical-align: top;\n",
              "    }\n",
              "\n",
              "    .dataframe thead th {\n",
              "        text-align: right;\n",
              "    }\n",
              "</style>\n",
              "<table border=\"1\" class=\"dataframe\">\n",
              "  <thead>\n",
              "    <tr style=\"text-align: right;\">\n",
              "      <th></th>\n",
              "      <th>No</th>\n",
              "      <th>year</th>\n",
              "      <th>month</th>\n",
              "      <th>day</th>\n",
              "      <th>hour</th>\n",
              "      <th>pm2.5</th>\n",
              "      <th>DEWP</th>\n",
              "      <th>TEMP</th>\n",
              "      <th>PRES</th>\n",
              "      <th>cbwd</th>\n",
              "      <th>Iws</th>\n",
              "      <th>Is</th>\n",
              "      <th>Ir</th>\n",
              "    </tr>\n",
              "  </thead>\n",
              "  <tbody>\n",
              "    <tr>\n",
              "      <th>24</th>\n",
              "      <td>25</td>\n",
              "      <td>2010</td>\n",
              "      <td>1</td>\n",
              "      <td>2</td>\n",
              "      <td>0</td>\n",
              "      <td>129.0</td>\n",
              "      <td>-16</td>\n",
              "      <td>-4.0</td>\n",
              "      <td>1020.0</td>\n",
              "      <td>SE</td>\n",
              "      <td>1.79</td>\n",
              "      <td>0</td>\n",
              "      <td>0</td>\n",
              "    </tr>\n",
              "    <tr>\n",
              "      <th>25</th>\n",
              "      <td>26</td>\n",
              "      <td>2010</td>\n",
              "      <td>1</td>\n",
              "      <td>2</td>\n",
              "      <td>1</td>\n",
              "      <td>148.0</td>\n",
              "      <td>-15</td>\n",
              "      <td>-4.0</td>\n",
              "      <td>1020.0</td>\n",
              "      <td>SE</td>\n",
              "      <td>2.68</td>\n",
              "      <td>0</td>\n",
              "      <td>0</td>\n",
              "    </tr>\n",
              "    <tr>\n",
              "      <th>26</th>\n",
              "      <td>27</td>\n",
              "      <td>2010</td>\n",
              "      <td>1</td>\n",
              "      <td>2</td>\n",
              "      <td>2</td>\n",
              "      <td>159.0</td>\n",
              "      <td>-11</td>\n",
              "      <td>-5.0</td>\n",
              "      <td>1021.0</td>\n",
              "      <td>SE</td>\n",
              "      <td>3.57</td>\n",
              "      <td>0</td>\n",
              "      <td>0</td>\n",
              "    </tr>\n",
              "    <tr>\n",
              "      <th>27</th>\n",
              "      <td>28</td>\n",
              "      <td>2010</td>\n",
              "      <td>1</td>\n",
              "      <td>2</td>\n",
              "      <td>3</td>\n",
              "      <td>181.0</td>\n",
              "      <td>-7</td>\n",
              "      <td>-5.0</td>\n",
              "      <td>1022.0</td>\n",
              "      <td>SE</td>\n",
              "      <td>5.36</td>\n",
              "      <td>1</td>\n",
              "      <td>0</td>\n",
              "    </tr>\n",
              "    <tr>\n",
              "      <th>28</th>\n",
              "      <td>29</td>\n",
              "      <td>2010</td>\n",
              "      <td>1</td>\n",
              "      <td>2</td>\n",
              "      <td>4</td>\n",
              "      <td>138.0</td>\n",
              "      <td>-7</td>\n",
              "      <td>-5.0</td>\n",
              "      <td>1022.0</td>\n",
              "      <td>SE</td>\n",
              "      <td>6.25</td>\n",
              "      <td>2</td>\n",
              "      <td>0</td>\n",
              "    </tr>\n",
              "  </tbody>\n",
              "</table>\n",
              "</div>"
            ],
            "text/plain": [
              "    No  year  month  day  hour  pm2.5  DEWP  TEMP    PRES cbwd   Iws  Is  Ir\n",
              "24  25  2010      1    2     0  129.0   -16  -4.0  1020.0   SE  1.79   0   0\n",
              "25  26  2010      1    2     1  148.0   -15  -4.0  1020.0   SE  2.68   0   0\n",
              "26  27  2010      1    2     2  159.0   -11  -5.0  1021.0   SE  3.57   0   0\n",
              "27  28  2010      1    2     3  181.0    -7  -5.0  1022.0   SE  5.36   1   0\n",
              "28  29  2010      1    2     4  138.0    -7  -5.0  1022.0   SE  6.25   2   0"
            ]
          },
          "metadata": {},
          "execution_count": 3
        }
      ]
    },
    {
      "cell_type": "markdown",
      "metadata": {
        "id": "T_VdPi4a9vqy"
      },
      "source": [
        "### **Dropping time attributes and categorical attributes**"
      ]
    },
    {
      "cell_type": "code",
      "metadata": {
        "id": "Xz9PXFvWhQpn",
        "colab": {
          "base_uri": "https://localhost:8080/",
          "height": 677
        },
        "outputId": "7a826d29-e1d8-4125-f8cb-9408e4343f54"
      },
      "source": [
        "data_train = data.drop(['No', 'year', 'month', 'day', 'hour', 'cbwd'], axis=1)\n",
        "data_train.reset_index().drop(['index'], axis=1).head(20)"
      ],
      "execution_count": 4,
      "outputs": [
        {
          "output_type": "execute_result",
          "data": {
            "text/html": [
              "<div>\n",
              "<style scoped>\n",
              "    .dataframe tbody tr th:only-of-type {\n",
              "        vertical-align: middle;\n",
              "    }\n",
              "\n",
              "    .dataframe tbody tr th {\n",
              "        vertical-align: top;\n",
              "    }\n",
              "\n",
              "    .dataframe thead th {\n",
              "        text-align: right;\n",
              "    }\n",
              "</style>\n",
              "<table border=\"1\" class=\"dataframe\">\n",
              "  <thead>\n",
              "    <tr style=\"text-align: right;\">\n",
              "      <th></th>\n",
              "      <th>pm2.5</th>\n",
              "      <th>DEWP</th>\n",
              "      <th>TEMP</th>\n",
              "      <th>PRES</th>\n",
              "      <th>Iws</th>\n",
              "      <th>Is</th>\n",
              "      <th>Ir</th>\n",
              "    </tr>\n",
              "  </thead>\n",
              "  <tbody>\n",
              "    <tr>\n",
              "      <th>0</th>\n",
              "      <td>129.0</td>\n",
              "      <td>-16</td>\n",
              "      <td>-4.0</td>\n",
              "      <td>1020.0</td>\n",
              "      <td>1.79</td>\n",
              "      <td>0</td>\n",
              "      <td>0</td>\n",
              "    </tr>\n",
              "    <tr>\n",
              "      <th>1</th>\n",
              "      <td>148.0</td>\n",
              "      <td>-15</td>\n",
              "      <td>-4.0</td>\n",
              "      <td>1020.0</td>\n",
              "      <td>2.68</td>\n",
              "      <td>0</td>\n",
              "      <td>0</td>\n",
              "    </tr>\n",
              "    <tr>\n",
              "      <th>2</th>\n",
              "      <td>159.0</td>\n",
              "      <td>-11</td>\n",
              "      <td>-5.0</td>\n",
              "      <td>1021.0</td>\n",
              "      <td>3.57</td>\n",
              "      <td>0</td>\n",
              "      <td>0</td>\n",
              "    </tr>\n",
              "    <tr>\n",
              "      <th>3</th>\n",
              "      <td>181.0</td>\n",
              "      <td>-7</td>\n",
              "      <td>-5.0</td>\n",
              "      <td>1022.0</td>\n",
              "      <td>5.36</td>\n",
              "      <td>1</td>\n",
              "      <td>0</td>\n",
              "    </tr>\n",
              "    <tr>\n",
              "      <th>4</th>\n",
              "      <td>138.0</td>\n",
              "      <td>-7</td>\n",
              "      <td>-5.0</td>\n",
              "      <td>1022.0</td>\n",
              "      <td>6.25</td>\n",
              "      <td>2</td>\n",
              "      <td>0</td>\n",
              "    </tr>\n",
              "    <tr>\n",
              "      <th>5</th>\n",
              "      <td>109.0</td>\n",
              "      <td>-7</td>\n",
              "      <td>-6.0</td>\n",
              "      <td>1022.0</td>\n",
              "      <td>7.14</td>\n",
              "      <td>3</td>\n",
              "      <td>0</td>\n",
              "    </tr>\n",
              "    <tr>\n",
              "      <th>6</th>\n",
              "      <td>105.0</td>\n",
              "      <td>-7</td>\n",
              "      <td>-6.0</td>\n",
              "      <td>1023.0</td>\n",
              "      <td>8.93</td>\n",
              "      <td>4</td>\n",
              "      <td>0</td>\n",
              "    </tr>\n",
              "    <tr>\n",
              "      <th>7</th>\n",
              "      <td>124.0</td>\n",
              "      <td>-7</td>\n",
              "      <td>-5.0</td>\n",
              "      <td>1024.0</td>\n",
              "      <td>10.72</td>\n",
              "      <td>0</td>\n",
              "      <td>0</td>\n",
              "    </tr>\n",
              "    <tr>\n",
              "      <th>8</th>\n",
              "      <td>120.0</td>\n",
              "      <td>-8</td>\n",
              "      <td>-6.0</td>\n",
              "      <td>1024.0</td>\n",
              "      <td>12.51</td>\n",
              "      <td>0</td>\n",
              "      <td>0</td>\n",
              "    </tr>\n",
              "    <tr>\n",
              "      <th>9</th>\n",
              "      <td>132.0</td>\n",
              "      <td>-7</td>\n",
              "      <td>-5.0</td>\n",
              "      <td>1025.0</td>\n",
              "      <td>14.30</td>\n",
              "      <td>0</td>\n",
              "      <td>0</td>\n",
              "    </tr>\n",
              "    <tr>\n",
              "      <th>10</th>\n",
              "      <td>140.0</td>\n",
              "      <td>-7</td>\n",
              "      <td>-5.0</td>\n",
              "      <td>1026.0</td>\n",
              "      <td>17.43</td>\n",
              "      <td>1</td>\n",
              "      <td>0</td>\n",
              "    </tr>\n",
              "    <tr>\n",
              "      <th>11</th>\n",
              "      <td>152.0</td>\n",
              "      <td>-8</td>\n",
              "      <td>-5.0</td>\n",
              "      <td>1026.0</td>\n",
              "      <td>20.56</td>\n",
              "      <td>0</td>\n",
              "      <td>0</td>\n",
              "    </tr>\n",
              "    <tr>\n",
              "      <th>12</th>\n",
              "      <td>148.0</td>\n",
              "      <td>-8</td>\n",
              "      <td>-5.0</td>\n",
              "      <td>1026.0</td>\n",
              "      <td>23.69</td>\n",
              "      <td>0</td>\n",
              "      <td>0</td>\n",
              "    </tr>\n",
              "    <tr>\n",
              "      <th>13</th>\n",
              "      <td>164.0</td>\n",
              "      <td>-8</td>\n",
              "      <td>-5.0</td>\n",
              "      <td>1025.0</td>\n",
              "      <td>27.71</td>\n",
              "      <td>0</td>\n",
              "      <td>0</td>\n",
              "    </tr>\n",
              "    <tr>\n",
              "      <th>14</th>\n",
              "      <td>158.0</td>\n",
              "      <td>-9</td>\n",
              "      <td>-5.0</td>\n",
              "      <td>1025.0</td>\n",
              "      <td>31.73</td>\n",
              "      <td>0</td>\n",
              "      <td>0</td>\n",
              "    </tr>\n",
              "    <tr>\n",
              "      <th>15</th>\n",
              "      <td>154.0</td>\n",
              "      <td>-9</td>\n",
              "      <td>-5.0</td>\n",
              "      <td>1025.0</td>\n",
              "      <td>35.75</td>\n",
              "      <td>0</td>\n",
              "      <td>0</td>\n",
              "    </tr>\n",
              "    <tr>\n",
              "      <th>16</th>\n",
              "      <td>159.0</td>\n",
              "      <td>-9</td>\n",
              "      <td>-5.0</td>\n",
              "      <td>1026.0</td>\n",
              "      <td>37.54</td>\n",
              "      <td>0</td>\n",
              "      <td>0</td>\n",
              "    </tr>\n",
              "    <tr>\n",
              "      <th>17</th>\n",
              "      <td>164.0</td>\n",
              "      <td>-8</td>\n",
              "      <td>-5.0</td>\n",
              "      <td>1027.0</td>\n",
              "      <td>39.33</td>\n",
              "      <td>0</td>\n",
              "      <td>0</td>\n",
              "    </tr>\n",
              "    <tr>\n",
              "      <th>18</th>\n",
              "      <td>170.0</td>\n",
              "      <td>-8</td>\n",
              "      <td>-5.0</td>\n",
              "      <td>1027.0</td>\n",
              "      <td>42.46</td>\n",
              "      <td>0</td>\n",
              "      <td>0</td>\n",
              "    </tr>\n",
              "    <tr>\n",
              "      <th>19</th>\n",
              "      <td>149.0</td>\n",
              "      <td>-8</td>\n",
              "      <td>-5.0</td>\n",
              "      <td>1028.0</td>\n",
              "      <td>44.25</td>\n",
              "      <td>0</td>\n",
              "      <td>0</td>\n",
              "    </tr>\n",
              "  </tbody>\n",
              "</table>\n",
              "</div>"
            ],
            "text/plain": [
              "    pm2.5  DEWP  TEMP    PRES    Iws  Is  Ir\n",
              "0   129.0   -16  -4.0  1020.0   1.79   0   0\n",
              "1   148.0   -15  -4.0  1020.0   2.68   0   0\n",
              "2   159.0   -11  -5.0  1021.0   3.57   0   0\n",
              "3   181.0    -7  -5.0  1022.0   5.36   1   0\n",
              "4   138.0    -7  -5.0  1022.0   6.25   2   0\n",
              "5   109.0    -7  -6.0  1022.0   7.14   3   0\n",
              "6   105.0    -7  -6.0  1023.0   8.93   4   0\n",
              "7   124.0    -7  -5.0  1024.0  10.72   0   0\n",
              "8   120.0    -8  -6.0  1024.0  12.51   0   0\n",
              "9   132.0    -7  -5.0  1025.0  14.30   0   0\n",
              "10  140.0    -7  -5.0  1026.0  17.43   1   0\n",
              "11  152.0    -8  -5.0  1026.0  20.56   0   0\n",
              "12  148.0    -8  -5.0  1026.0  23.69   0   0\n",
              "13  164.0    -8  -5.0  1025.0  27.71   0   0\n",
              "14  158.0    -9  -5.0  1025.0  31.73   0   0\n",
              "15  154.0    -9  -5.0  1025.0  35.75   0   0\n",
              "16  159.0    -9  -5.0  1026.0  37.54   0   0\n",
              "17  164.0    -8  -5.0  1027.0  39.33   0   0\n",
              "18  170.0    -8  -5.0  1027.0  42.46   0   0\n",
              "19  149.0    -8  -5.0  1028.0  44.25   0   0"
            ]
          },
          "metadata": {},
          "execution_count": 4
        }
      ]
    },
    {
      "cell_type": "markdown",
      "metadata": {
        "id": "EJ2tSpp5_YXp"
      },
      "source": [
        "### **Checking null value for every attributes**"
      ]
    },
    {
      "cell_type": "code",
      "metadata": {
        "id": "4VrUzKTUcrqV",
        "colab": {
          "base_uri": "https://localhost:8080/"
        },
        "outputId": "4e76d487-a565-42cc-a100-bc2eba647e2e"
      },
      "source": [
        "data_train.isnull().sum() "
      ],
      "execution_count": 5,
      "outputs": [
        {
          "output_type": "execute_result",
          "data": {
            "text/plain": [
              "pm2.5    0\n",
              "DEWP     0\n",
              "TEMP     0\n",
              "PRES     0\n",
              "Iws      0\n",
              "Is       0\n",
              "Ir       0\n",
              "dtype: int64"
            ]
          },
          "metadata": {},
          "execution_count": 5
        }
      ]
    },
    {
      "cell_type": "code",
      "metadata": {
        "id": "H0CPqe3yoMUf",
        "colab": {
          "base_uri": "https://localhost:8080/",
          "height": 300
        },
        "outputId": "34ae096f-ad65-495a-b439-9ea3dab8c3f8"
      },
      "source": [
        "data_train.describe()"
      ],
      "execution_count": 6,
      "outputs": [
        {
          "output_type": "execute_result",
          "data": {
            "text/html": [
              "<div>\n",
              "<style scoped>\n",
              "    .dataframe tbody tr th:only-of-type {\n",
              "        vertical-align: middle;\n",
              "    }\n",
              "\n",
              "    .dataframe tbody tr th {\n",
              "        vertical-align: top;\n",
              "    }\n",
              "\n",
              "    .dataframe thead th {\n",
              "        text-align: right;\n",
              "    }\n",
              "</style>\n",
              "<table border=\"1\" class=\"dataframe\">\n",
              "  <thead>\n",
              "    <tr style=\"text-align: right;\">\n",
              "      <th></th>\n",
              "      <th>pm2.5</th>\n",
              "      <th>DEWP</th>\n",
              "      <th>TEMP</th>\n",
              "      <th>PRES</th>\n",
              "      <th>Iws</th>\n",
              "      <th>Is</th>\n",
              "      <th>Ir</th>\n",
              "    </tr>\n",
              "  </thead>\n",
              "  <tbody>\n",
              "    <tr>\n",
              "      <th>count</th>\n",
              "      <td>41757.000000</td>\n",
              "      <td>41757.000000</td>\n",
              "      <td>41757.000000</td>\n",
              "      <td>41757.000000</td>\n",
              "      <td>41757.000000</td>\n",
              "      <td>41757.000000</td>\n",
              "      <td>41757.000000</td>\n",
              "    </tr>\n",
              "    <tr>\n",
              "      <th>mean</th>\n",
              "      <td>98.613215</td>\n",
              "      <td>1.750174</td>\n",
              "      <td>12.401561</td>\n",
              "      <td>1016.442896</td>\n",
              "      <td>23.866747</td>\n",
              "      <td>0.055344</td>\n",
              "      <td>0.194866</td>\n",
              "    </tr>\n",
              "    <tr>\n",
              "      <th>std</th>\n",
              "      <td>92.050387</td>\n",
              "      <td>14.433658</td>\n",
              "      <td>12.175215</td>\n",
              "      <td>10.300733</td>\n",
              "      <td>49.617495</td>\n",
              "      <td>0.778875</td>\n",
              "      <td>1.418165</td>\n",
              "    </tr>\n",
              "    <tr>\n",
              "      <th>min</th>\n",
              "      <td>0.000000</td>\n",
              "      <td>-40.000000</td>\n",
              "      <td>-19.000000</td>\n",
              "      <td>991.000000</td>\n",
              "      <td>0.450000</td>\n",
              "      <td>0.000000</td>\n",
              "      <td>0.000000</td>\n",
              "    </tr>\n",
              "    <tr>\n",
              "      <th>25%</th>\n",
              "      <td>29.000000</td>\n",
              "      <td>-10.000000</td>\n",
              "      <td>2.000000</td>\n",
              "      <td>1008.000000</td>\n",
              "      <td>1.790000</td>\n",
              "      <td>0.000000</td>\n",
              "      <td>0.000000</td>\n",
              "    </tr>\n",
              "    <tr>\n",
              "      <th>50%</th>\n",
              "      <td>72.000000</td>\n",
              "      <td>2.000000</td>\n",
              "      <td>14.000000</td>\n",
              "      <td>1016.000000</td>\n",
              "      <td>5.370000</td>\n",
              "      <td>0.000000</td>\n",
              "      <td>0.000000</td>\n",
              "    </tr>\n",
              "    <tr>\n",
              "      <th>75%</th>\n",
              "      <td>137.000000</td>\n",
              "      <td>15.000000</td>\n",
              "      <td>23.000000</td>\n",
              "      <td>1025.000000</td>\n",
              "      <td>21.910000</td>\n",
              "      <td>0.000000</td>\n",
              "      <td>0.000000</td>\n",
              "    </tr>\n",
              "    <tr>\n",
              "      <th>max</th>\n",
              "      <td>994.000000</td>\n",
              "      <td>28.000000</td>\n",
              "      <td>42.000000</td>\n",
              "      <td>1046.000000</td>\n",
              "      <td>565.490000</td>\n",
              "      <td>27.000000</td>\n",
              "      <td>36.000000</td>\n",
              "    </tr>\n",
              "  </tbody>\n",
              "</table>\n",
              "</div>"
            ],
            "text/plain": [
              "              pm2.5          DEWP  ...            Is            Ir\n",
              "count  41757.000000  41757.000000  ...  41757.000000  41757.000000\n",
              "mean      98.613215      1.750174  ...      0.055344      0.194866\n",
              "std       92.050387     14.433658  ...      0.778875      1.418165\n",
              "min        0.000000    -40.000000  ...      0.000000      0.000000\n",
              "25%       29.000000    -10.000000  ...      0.000000      0.000000\n",
              "50%       72.000000      2.000000  ...      0.000000      0.000000\n",
              "75%      137.000000     15.000000  ...      0.000000      0.000000\n",
              "max      994.000000     28.000000  ...     27.000000     36.000000\n",
              "\n",
              "[8 rows x 7 columns]"
            ]
          },
          "metadata": {},
          "execution_count": 6
        }
      ]
    },
    {
      "cell_type": "markdown",
      "metadata": {
        "id": "UlZwMRr__u1r"
      },
      "source": [
        "### **Making data transformation function**"
      ]
    },
    {
      "cell_type": "code",
      "metadata": {
        "id": "doUueHnzbC1p"
      },
      "source": [
        "def data2sequences(data, window_size=1):\n",
        "  X = []\n",
        "  y = []\n",
        "  scaler = MinMaxScaler(feature_range=(0,1))\n",
        "  scaled = scaler.fit_transform(data)\n",
        "  for i in range(len(data)-window_size):\n",
        "    X.append(scaled[i:i+window_size])\n",
        "    y.append(data['pm2.5'].iloc[i+window_size])\n",
        "  \n",
        "  return X, y, scaler\n"
      ],
      "execution_count": 7,
      "outputs": []
    },
    {
      "cell_type": "markdown",
      "metadata": {
        "id": "Eu5XngU5_5ot"
      },
      "source": [
        "### **Transform data into sequential data attributes with 10 consecutive days as input features**"
      ]
    },
    {
      "cell_type": "code",
      "metadata": {
        "id": "nfcnSoCf-vuF"
      },
      "source": [
        "X, y, scaler = data2sequences(data_train, window_size=10)"
      ],
      "execution_count": 8,
      "outputs": []
    },
    {
      "cell_type": "markdown",
      "metadata": {
        "id": "U2Roj5ffAckK"
      },
      "source": [
        "### **Dividing data into train and test**"
      ]
    },
    {
      "cell_type": "code",
      "metadata": {
        "id": "37-sijkKy0yb"
      },
      "source": [
        "X_train, X_test, y_train, y_test = train_test_split(np.array(X), np.array(y), test_size=0.2, shuffle=False)"
      ],
      "execution_count": 9,
      "outputs": []
    },
    {
      "cell_type": "markdown",
      "metadata": {
        "id": "MVA2Lus2Aleu"
      },
      "source": [
        "### **Designing model for prediction**"
      ]
    },
    {
      "cell_type": "code",
      "metadata": {
        "id": "5gEAMmdaxCP1",
        "colab": {
          "base_uri": "https://localhost:8080/"
        },
        "outputId": "fdea6c40-bbfa-43f9-ac2d-565813cec52f"
      },
      "source": [
        "model = tf.keras.models.Sequential([                                  \n",
        "  tf.keras.layers.LSTM(100, input_shape=(X_train.shape[1], X_train.shape[2])),\n",
        "  tf.keras.layers.Dense(256),\n",
        "  tf.keras.layers.Dense(256),\n",
        "  tf.keras.layers.Dense(1, activation='linear')\n",
        "])\n",
        "\n",
        "optimizer = tf.keras.optimizers.Adam(learning_rate=0.01)\n",
        "\n",
        "model.compile(loss='mae',\n",
        "              optimizer=optimizer,\n",
        "              metrics=[\"mae\"])\n",
        "\n",
        "callbacks = [tf.keras.callbacks.EarlyStopping(patience=10,\n",
        "                                              monitor='val_loss',\n",
        "                                              restore_best_weights=True)]\n",
        "model.summary()\n"
      ],
      "execution_count": 10,
      "outputs": [
        {
          "output_type": "stream",
          "name": "stdout",
          "text": [
            "Model: \"sequential\"\n",
            "_________________________________________________________________\n",
            " Layer (type)                Output Shape              Param #   \n",
            "=================================================================\n",
            " lstm (LSTM)                 (None, 100)               43200     \n",
            "                                                                 \n",
            " dense (Dense)               (None, 256)               25856     \n",
            "                                                                 \n",
            " dense_1 (Dense)             (None, 256)               65792     \n",
            "                                                                 \n",
            " dense_2 (Dense)             (None, 1)                 257       \n",
            "                                                                 \n",
            "=================================================================\n",
            "Total params: 135,105\n",
            "Trainable params: 135,105\n",
            "Non-trainable params: 0\n",
            "_________________________________________________________________\n"
          ]
        }
      ]
    },
    {
      "cell_type": "markdown",
      "metadata": {
        "id": "iqk_He29RswE"
      },
      "source": [
        "### **Training the model**"
      ]
    },
    {
      "cell_type": "code",
      "metadata": {
        "id": "Nw7xA3Br0fvr",
        "colab": {
          "base_uri": "https://localhost:8080/"
        },
        "outputId": "77cee8fb-ecff-4e12-f799-6c543f9d929d"
      },
      "source": [
        "history = model.fit(X_train.astype('float32'),\n",
        "                    y_train.astype('float32'), epochs=100,\n",
        "                    batch_size=64,\n",
        "                    validation_data=(X_test.astype('float32'),\n",
        "                                     y_test.astype('float32')),\n",
        "                    callbacks=callbacks)"
      ],
      "execution_count": 11,
      "outputs": [
        {
          "output_type": "stream",
          "name": "stdout",
          "text": [
            "Epoch 1/100\n",
            "522/522 [==============================] - 7s 9ms/step - loss: 21.1082 - mae: 21.1082 - val_loss: 12.0092 - val_mae: 12.0092\n",
            "Epoch 2/100\n",
            "522/522 [==============================] - 4s 8ms/step - loss: 13.7585 - mae: 13.7585 - val_loss: 11.6799 - val_mae: 11.6799\n",
            "Epoch 3/100\n",
            "522/522 [==============================] - 4s 8ms/step - loss: 14.1248 - mae: 14.1248 - val_loss: 11.5846 - val_mae: 11.5846\n",
            "Epoch 4/100\n",
            "522/522 [==============================] - 4s 8ms/step - loss: 13.7703 - mae: 13.7703 - val_loss: 12.3273 - val_mae: 12.3273\n",
            "Epoch 5/100\n",
            "522/522 [==============================] - 4s 8ms/step - loss: 13.4783 - mae: 13.4783 - val_loss: 11.9097 - val_mae: 11.9097\n",
            "Epoch 6/100\n",
            "522/522 [==============================] - 4s 8ms/step - loss: 13.8016 - mae: 13.8016 - val_loss: 12.3741 - val_mae: 12.3741\n",
            "Epoch 7/100\n",
            "522/522 [==============================] - 4s 8ms/step - loss: 13.5034 - mae: 13.5034 - val_loss: 11.3335 - val_mae: 11.3335\n",
            "Epoch 8/100\n",
            "522/522 [==============================] - 4s 8ms/step - loss: 13.4945 - mae: 13.4945 - val_loss: 11.6414 - val_mae: 11.6414\n",
            "Epoch 9/100\n",
            "522/522 [==============================] - 4s 8ms/step - loss: 13.3858 - mae: 13.3858 - val_loss: 11.1854 - val_mae: 11.1854\n",
            "Epoch 10/100\n",
            "522/522 [==============================] - 4s 8ms/step - loss: 13.1645 - mae: 13.1645 - val_loss: 11.7117 - val_mae: 11.7117\n",
            "Epoch 11/100\n",
            "522/522 [==============================] - 4s 8ms/step - loss: 13.2597 - mae: 13.2597 - val_loss: 11.3826 - val_mae: 11.3826\n",
            "Epoch 12/100\n",
            "522/522 [==============================] - 4s 8ms/step - loss: 13.1170 - mae: 13.1170 - val_loss: 11.4137 - val_mae: 11.4137\n",
            "Epoch 13/100\n",
            "522/522 [==============================] - 4s 8ms/step - loss: 13.1586 - mae: 13.1586 - val_loss: 11.9396 - val_mae: 11.9396\n",
            "Epoch 14/100\n",
            "522/522 [==============================] - 4s 8ms/step - loss: 13.2767 - mae: 13.2767 - val_loss: 12.2045 - val_mae: 12.2045\n",
            "Epoch 15/100\n",
            "522/522 [==============================] - 4s 8ms/step - loss: 12.9942 - mae: 12.9942 - val_loss: 11.4140 - val_mae: 11.4140\n",
            "Epoch 16/100\n",
            "522/522 [==============================] - 4s 8ms/step - loss: 13.0765 - mae: 13.0765 - val_loss: 11.9312 - val_mae: 11.9312\n",
            "Epoch 17/100\n",
            "522/522 [==============================] - 4s 8ms/step - loss: 13.0426 - mae: 13.0426 - val_loss: 11.2118 - val_mae: 11.2118\n",
            "Epoch 18/100\n",
            "522/522 [==============================] - 4s 8ms/step - loss: 13.1648 - mae: 13.1648 - val_loss: 12.2820 - val_mae: 12.2820\n",
            "Epoch 19/100\n",
            "522/522 [==============================] - 4s 8ms/step - loss: 13.0494 - mae: 13.0494 - val_loss: 11.7534 - val_mae: 11.7534\n"
          ]
        }
      ]
    },
    {
      "cell_type": "markdown",
      "metadata": {
        "id": "WDJQOtLkSAjG"
      },
      "source": [
        "### **Plotting the train and validation metrics**"
      ]
    },
    {
      "cell_type": "code",
      "metadata": {
        "id": "BDEvyeEutVCQ",
        "colab": {
          "base_uri": "https://localhost:8080/",
          "height": 313
        },
        "outputId": "6576b663-61c3-4fb6-e187-bc075ebbb7b8"
      },
      "source": [
        "import matplotlib.pyplot as plt\n",
        "import matplotlib as mpl\n",
        "\n",
        "\n",
        "fig, ax = plt.subplots(2, constrained_layout=True)\n",
        "\n",
        "ax[0].xaxis.set_major_locator(mpl.ticker.MaxNLocator(integer=True))\n",
        "ax[1].xaxis.set_major_locator(mpl.ticker.MaxNLocator(integer=True))\n",
        "\n",
        "x = np.arange(1, len(history.history['mae'])+1)\n",
        "\n",
        "ax[0].plot(x, history.history['mae'], label='mae', marker='o')\n",
        "ax[0].plot(x, history.history['val_mae'], label='val_mae', marker='o')\n",
        "ax[0].set_xticks(x)\n",
        "ax[0].legend()\n",
        "ax[0].set_title('MAE Graph')\n",
        "ax[0].set_ylabel('MAE')\n",
        "ax[0].set_xlabel('Epoch')\n",
        "\n",
        "ax[1].plot(x, history.history['loss'], label='loss', marker='o')\n",
        "ax[1].plot(x, history.history['val_loss'], label='val_loss', marker='o')\n",
        "ax[1].set_xticks(x)\n",
        "ax[1].legend()\n",
        "ax[1].set_title('Loss Graph')\n",
        "ax[1].set_ylabel('Loss')\n",
        "ax[1].set_xlabel('Epoch')\n",
        "\n",
        "plt.show()"
      ],
      "execution_count": 12,
      "outputs": [
        {
          "output_type": "display_data",
          "data": {
            "image/png": "[encoded data removed]",
            "text/plain": [
              "<Figure size 432x288 with 2 Axes>"
            ]
          },
          "metadata": {
            "needs_background": "light"
          }
        }
      ]
    },
    {
      "cell_type": "code",
      "metadata": {
        "id": "d7KZ7dFWxco0",
        "colab": {
          "base_uri": "https://localhost:8080/"
        },
        "outputId": "8a444e5a-d051-4448-d689-4660b6f30055"
      },
      "source": [
        "max = data_train.describe()['pm2.5']['max']\n",
        "min = data_train.describe()['pm2.5']['min']\n",
        "\n",
        "prediction = model.predict(X_train)\n",
        "prediction2 = model.predict(X_test)\n",
        "\n",
        "print('MAE Train Data : ', mean_absolute_error(y_train, prediction))\n",
        "print('MAE Test Data : ', mean_absolute_error(y_test, prediction2))"
      ],
      "execution_count": 15,
      "outputs": [
        {
          "output_type": "stream",
          "name": "stdout",
          "text": [
            "MAE Train Data :  12.598840874858462\n",
            "MAE Test Data :  11.185407124971915\n"
          ]
        }
      ]
    },
    {
      "cell_type": "markdown",
      "metadata": {
        "id": "7yw4F7D8Sr00"
      },
      "source": [
        "### **Plotting Actual and Prediction Value of PM2.5** "
      ]
    },
    {
      "cell_type": "code",
      "metadata": {
        "id": "hLJBuv2qI2Sw",
        "colab": {
          "base_uri": "https://localhost:8080/",
          "height": 313
        },
        "outputId": "c5d7e91e-9a66-4bbb-8d11-65efa24f6b59"
      },
      "source": [
        "fig, ax2 = plt.subplots(2, constrained_layout=True)\n",
        "\n",
        "ax2[0].plot(y)\n",
        "ax2[0].set_title('ACTUAL PM2.5 Graph')\n",
        "ax2[0].set_ylabel('PM2.5')\n",
        "\n",
        "ax2[1].plot(y, color='blue', label='actual')\n",
        "ax2[1].plot(range(0, len(y_train)), prediction, color='red', label='prediction-train')\n",
        "ax2[1].plot(range(len(y_train),len(y)), prediction2, color='green', label='prediction-test')\n",
        "ax2[1].set_title('ACTUAL VS PREDICTION PM2.5')\n",
        "ax2[1].set_ylabel('PM2.5')\n",
        "plt.legend()\n",
        "\n",
        "plt.show()"
      ],
      "execution_count": 14,
      "outputs": [
        {
          "output_type": "display_data",
          "data": {
            "image/png": "[encoded data removed]",
            "text/plain": [
              "<Figure size 432x288 with 2 Axes>"
            ]
          },
          "metadata": {
            "needs_background": "light"
          }
        }
      ]
    }
  ]
}